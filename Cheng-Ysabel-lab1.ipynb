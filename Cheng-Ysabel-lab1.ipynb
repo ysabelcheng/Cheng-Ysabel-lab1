{
 "cells": [
  {
   "cell_type": "markdown",
   "metadata": {},
   "source": [
    "181102\n",
    "Cheng\n",
    "3 BS CTM"
   ]
  },
  {
   "cell_type": "markdown",
   "metadata": {},
   "source": [
    "### 1\n",
    "1. input dollar\n",
    "2. convert to peso\n",
    "3. display peso"
   ]
  },
  {
   "cell_type": "code",
   "execution_count": 1,
   "metadata": {},
   "outputs": [],
   "source": [
    "def dollar_to_peso (dollar):\n",
    "    converted = dollar * 50\n",
    "    return converted"
   ]
  },
  {
   "cell_type": "code",
   "execution_count": 5,
   "metadata": {},
   "outputs": [
    {
     "name": "stdout",
     "output_type": "stream",
     "text": [
      "Enter the amount in UD Dollars: 20\n",
      "20 US dollar(s) =  1000 Philippine Pesos.\n"
     ]
    }
   ],
   "source": [
    "# input dollar\n",
    "dollar = int(input(\"Enter the amount in UD Dollars: \"))\n",
    "\n",
    "# convert to peso\n",
    "converted = dollar_to_peso (dollar)\n",
    "\n",
    "# display peso\n",
    "print(dollar, \"US dollar(s) = \", converted, \"Philippine Pesos.\")"
   ]
  },
  {
   "cell_type": "markdown",
   "metadata": {},
   "source": [
    "### 2\n",
    "1. input integer a and b\n",
    "2. a + b\n",
    "3. a - b\n",
    "4. a * b\n",
    "5. quotient of a / b\n",
    "6. remainder of a/b\n",
    "7. print"
   ]
  },
  {
   "cell_type": "code",
   "execution_count": 15,
   "metadata": {},
   "outputs": [],
   "source": [
    "def add_ab (a, b):\n",
    "    add = a + b\n",
    "    return add\n",
    "\n",
    "def subtract_ab (a, b):\n",
    "    difference = a - b\n",
    "    return difference\n",
    "\n",
    "def multiply_ab (a, b):\n",
    "    product = a * b\n",
    "    return product\n",
    "\n",
    "def divide_ab (a, b):\n",
    "    quotient = a // b\n",
    "    return quotient\n",
    "\n",
    "def remaining_ab (a, b):\n",
    "    remainder = a % b\n",
    "    return remainder"
   ]
  },
  {
   "cell_type": "code",
   "execution_count": 18,
   "metadata": {},
   "outputs": [
    {
     "name": "stdout",
     "output_type": "stream",
     "text": [
      "128\n",
      "8\n",
      "58\n",
      "120\n",
      "1024\n",
      "16\n",
      "0\n"
     ]
    }
   ],
   "source": [
    "# input a and b\n",
    "a = int(input())\n",
    "b = int(input())\n",
    "\n",
    "# a + b\n",
    "add = add_ab (a, b)\n",
    "\n",
    "# a - b\n",
    "difference = subtract_ab (a, b)\n",
    "\n",
    "# a * b\n",
    "product = multiply_ab (a, b)\n",
    "\n",
    "# a / b quotient\n",
    "quotient = divide_ab (a, b)\n",
    "\n",
    "# a / b remainder\n",
    "remainder = remaining_ab (a, b)\n",
    "\n",
    "# print\n",
    "print(sum)\n",
    "print(difference)\n",
    "print(product)\n",
    "print(quotient)\n",
    "print (remainder)"
   ]
  },
  {
   "cell_type": "markdown",
   "metadata": {},
   "source": [
    "### 3\n",
    "1. input kg and cm\n",
    "2. convert cm to m\n",
    "3. square m\n",
    "4. kg / m^2\n",
    "4. display BMI"
   ]
  },
  {
   "cell_type": "code",
   "execution_count": 19,
   "metadata": {},
   "outputs": [],
   "source": [
    "def convert_cm_to_m (cm):\n",
    "    m = cm / 100\n",
    "    return m\n",
    "\n",
    "def square_m (m):\n",
    "    msquared = m**2\n",
    "    return msquared\n",
    "\n",
    "def compute_BMI (kg, msquared):\n",
    "    BMI = kg / msquared\n",
    "    return BMI"
   ]
  },
  {
   "cell_type": "code",
   "execution_count": 22,
   "metadata": {},
   "outputs": [
    {
     "name": "stdout",
     "output_type": "stream",
     "text": [
      "Enter kg: 70\n",
      "Enter cm: 170\n",
      "BMI:  24.221453287197235\n"
     ]
    }
   ],
   "source": [
    "# input kg and cm\n",
    "kg = int(input(\"Enter kg: \"))\n",
    "cm = int(input(\"Enter cm: \"))\n",
    "\n",
    "# convert cm to m\n",
    "m = convert_cm_to_m (cm)\n",
    "\n",
    "# square m\n",
    "msquared = square_m (m)\n",
    "\n",
    "# compute BMI\n",
    "BMI = compute_BMI (kg, msquared)\n",
    "\n",
    "# display BMI\n",
    "print(\"BMI: \", BMI)"
   ]
  },
  {
   "cell_type": "code",
   "execution_count": null,
   "metadata": {},
   "outputs": [],
   "source": []
  }
 ],
 "metadata": {
  "kernelspec": {
   "display_name": "Python 3",
   "language": "python",
   "name": "python3"
  },
  "language_info": {
   "codemirror_mode": {
    "name": "ipython",
    "version": 3
   },
   "file_extension": ".py",
   "mimetype": "text/x-python",
   "name": "python",
   "nbconvert_exporter": "python",
   "pygments_lexer": "ipython3",
   "version": "3.8.5"
  }
 },
 "nbformat": 4,
 "nbformat_minor": 4
}
